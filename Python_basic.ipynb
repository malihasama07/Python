{
 "cells": [
  {
   "cell_type": "code",
   "execution_count": 16,
   "id": "e50f433a",
   "metadata": {},
   "outputs": [
    {
     "name": "stdout",
     "output_type": "stream",
     "text": [
      "Hello, Python World!\n"
     ]
    }
   ],
   "source": [
    "# Print & Comments\n",
    "print(\"Hello, Python World!\") "
   ]
  },
  {
   "cell_type": "code",
   "execution_count": 7,
   "id": "794ae37e",
   "metadata": {},
   "outputs": [
    {
     "name": "stdout",
     "output_type": "stream",
     "text": [
      "10 3.14 Zozo True\n"
     ]
    }
   ],
   "source": [
    "#Variables & Data Types\n",
    "x = 10          # integer\n",
    "y = 3.14        # float\n",
    "name = \"Zozo\"   # string\n",
    "is_true = True  # boolean\n",
    "\n",
    "print(x, y, name, is_true)\n"
   ]
  },
  {
   "cell_type": "code",
   "execution_count": 1,
   "id": "72a7b7fb",
   "metadata": {},
   "outputs": [
    {
     "name": "stdout",
     "output_type": "stream",
     "text": [
      "10 as int: 10\n"
     ]
    }
   ],
   "source": [
    "#Type Casting\n",
    "a = \"10\"\n",
    "b = int(a)  # convert string to integer\n",
    "print(a, \"as int:\", b)\n",
    "\n"
   ]
  },
  {
   "cell_type": "code",
   "execution_count": 2,
   "id": "ec5a8b38",
   "metadata": {},
   "outputs": [
    {
     "name": "stdout",
     "output_type": "stream",
     "text": [
      "Addition: 29\n",
      "Subtraction: 11\n",
      "Multiplication: 180\n",
      "Division: 2.2222222222222223\n",
      "Floor Division: 2\n",
      "Modulus: 2\n",
      "Power: 512000000000\n"
     ]
    }
   ],
   "source": [
    "#Operators\n",
    "x, y = 20, 9\n",
    "print(\"Addition:\", x + y)\n",
    "print(\"Subtraction:\", x - y)\n",
    "print(\"Multiplication:\", x * y)\n",
    "print(\"Division:\", x / y)\n",
    "print(\"Floor Division:\", x // y)\n",
    "print(\"Modulus:\", x % y)\n",
    "print(\"Power:\", x ** y)\n"
   ]
  },
  {
   "cell_type": "code",
   "execution_count": 3,
   "id": "26da5100",
   "metadata": {},
   "outputs": [
    {
     "name": "stdout",
     "output_type": "stream",
     "text": [
      "You are an adult\n"
     ]
    }
   ],
   "source": [
    "#Conditional Statements\n",
    "age = 18\n",
    "if age >= 18:\n",
    "    print(\"You are an adult\")\n",
    "else:\n",
    "    print(\"You are a minor\")\n"
   ]
  },
  {
   "cell_type": "code",
   "execution_count": 4,
   "id": "47e28ebf",
   "metadata": {},
   "outputs": [
    {
     "name": "stdout",
     "output_type": "stream",
     "text": [
      "Number: 0\n",
      "Number: 1\n",
      "Number: 2\n",
      "Number: 3\n",
      "Number: 4\n",
      "5\n",
      "4\n",
      "3\n",
      "2\n",
      "1\n"
     ]
    }
   ],
   "source": [
    "# For loop\n",
    "for i in range(5):\n",
    "    print(\"Number:\", i)\n",
    "\n",
    "# While loop\n",
    "n = 5\n",
    "while n > 0:\n",
    "    print(n)\n",
    "    n -= 1\n"
   ]
  },
  {
   "cell_type": "code",
   "execution_count": 5,
   "id": "1242b31b",
   "metadata": {},
   "outputs": [
    {
     "name": "stdout",
     "output_type": "stream",
     "text": [
      "Hello, Zozo\n"
     ]
    }
   ],
   "source": [
    "#Functions\n",
    "def greet(name):\n",
    "    return \"Hello, \" + name\n",
    "\n",
    "print(greet(\"Zozo\"))\n",
    "\n"
   ]
  },
  {
   "cell_type": "code",
   "execution_count": 15,
   "id": "c342b31c",
   "metadata": {},
   "outputs": [
    {
     "name": "stdout",
     "output_type": "stream",
     "text": [
      "['apple', 'banana', 'cherry', 'Mango', 'Lichi', 'orange']\n",
      "First fruit: apple\n"
     ]
    }
   ],
   "source": [
    "#Lists\n",
    "fruits = [\"apple\", \"banana\", \"cherry\", \"Mango\", \"Lichi\"]\n",
    "fruits.append(\"orange\")\n",
    "print(fruits)\n",
    "print(\"First fruit:\", fruits[0])\n",
    "\n"
   ]
  },
  {
   "cell_type": "code",
   "execution_count": 18,
   "id": "0a5d40bf",
   "metadata": {},
   "outputs": [
    {
     "name": "stdout",
     "output_type": "stream",
     "text": [
      "green\n"
     ]
    }
   ],
   "source": [
    "#Tuples\n",
    "colors = (\"red\", \"green\", \"blue\",\"yellow\", \"pink\")\n",
    "print(colors[1])\n",
    "\n"
   ]
  },
  {
   "cell_type": "code",
   "execution_count": 19,
   "id": "2ce40383",
   "metadata": {},
   "outputs": [
    {
     "name": "stdout",
     "output_type": "stream",
     "text": [
      "{1, 2, 3, 4, 5}\n"
     ]
    }
   ],
   "source": [
    "#Sets\n",
    "nums = {1, 2, 3, 4, 2}\n",
    "nums.add(5)\n",
    "print(nums)\n"
   ]
  },
  {
   "cell_type": "code",
   "execution_count": 20,
   "id": "0f78cf37",
   "metadata": {},
   "outputs": [
    {
     "name": "stdout",
     "output_type": "stream",
     "text": [
      "Maliha\n",
      "{'name': 'Maliha', 'age': 21, 'grade': 'A'}\n"
     ]
    }
   ],
   "source": [
    "#Dictionaries\n",
    "student = {\"name\": \"Maliha\", \"age\": 21}\n",
    "print(student[\"name\"])\n",
    "student[\"grade\"] = \"A\"\n",
    "print(student)\n"
   ]
  }
 ],
 "metadata": {
  "kernelspec": {
   "display_name": "base",
   "language": "python",
   "name": "python3"
  },
  "language_info": {
   "codemirror_mode": {
    "name": "ipython",
    "version": 3
   },
   "file_extension": ".py",
   "mimetype": "text/x-python",
   "name": "python",
   "nbconvert_exporter": "python",
   "pygments_lexer": "ipython3",
   "version": "3.13.5"
  }
 },
 "nbformat": 4,
 "nbformat_minor": 5
}
